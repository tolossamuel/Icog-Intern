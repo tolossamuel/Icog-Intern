{
  "nbformat": 4,
  "nbformat_minor": 0,
  "metadata": {
    "colab": {
      "provenance": [],
      "authorship_tag": "ABX9TyMGTaw7cwh6zOw6Fie8x1mY",
      "include_colab_link": true
    },
    "kernelspec": {
      "name": "python3",
      "display_name": "Python 3"
    },
    "language_info": {
      "name": "python"
    },
    "widgets": {
      "application/vnd.jupyter.widget-state+json": {
        "0aceb3687ccb4cd49b7d54e755fe0f6b": {
          "model_module": "@jupyter-widgets/controls",
          "model_name": "HBoxModel",
          "model_module_version": "1.5.0",
          "state": {
            "_dom_classes": [],
            "_model_module": "@jupyter-widgets/controls",
            "_model_module_version": "1.5.0",
            "_model_name": "HBoxModel",
            "_view_count": null,
            "_view_module": "@jupyter-widgets/controls",
            "_view_module_version": "1.5.0",
            "_view_name": "HBoxView",
            "box_style": "",
            "children": [
              "IPY_MODEL_550e3348985a4fd6be46757aaad7dd97",
              "IPY_MODEL_8176d8c8cc2f48b393d806e331705028",
              "IPY_MODEL_9d4f0b1828d948cc8ce451beacb368e3"
            ],
            "layout": "IPY_MODEL_435855cd4e45421c9be69b2eafa7c2c6"
          }
        },
        "550e3348985a4fd6be46757aaad7dd97": {
          "model_module": "@jupyter-widgets/controls",
          "model_name": "HTMLModel",
          "model_module_version": "1.5.0",
          "state": {
            "_dom_classes": [],
            "_model_module": "@jupyter-widgets/controls",
            "_model_module_version": "1.5.0",
            "_model_name": "HTMLModel",
            "_view_count": null,
            "_view_module": "@jupyter-widgets/controls",
            "_view_module_version": "1.5.0",
            "_view_name": "HTMLView",
            "description": "",
            "description_tooltip": null,
            "layout": "IPY_MODEL_5b89c7df496a4cc4b0fe7c5e339baa0e",
            "placeholder": "​",
            "style": "IPY_MODEL_620b4e3362484015b987b4820c7cbca1",
            "value": "Map: 100%"
          }
        },
        "8176d8c8cc2f48b393d806e331705028": {
          "model_module": "@jupyter-widgets/controls",
          "model_name": "FloatProgressModel",
          "model_module_version": "1.5.0",
          "state": {
            "_dom_classes": [],
            "_model_module": "@jupyter-widgets/controls",
            "_model_module_version": "1.5.0",
            "_model_name": "FloatProgressModel",
            "_view_count": null,
            "_view_module": "@jupyter-widgets/controls",
            "_view_module_version": "1.5.0",
            "_view_name": "ProgressView",
            "bar_style": "success",
            "description": "",
            "description_tooltip": null,
            "layout": "IPY_MODEL_3b51d823ed6c43548d1c99aaf6f483e0",
            "max": 500,
            "min": 0,
            "orientation": "horizontal",
            "style": "IPY_MODEL_1df2c790aaf84b36b3c5cd1a3853e09a",
            "value": 500
          }
        },
        "9d4f0b1828d948cc8ce451beacb368e3": {
          "model_module": "@jupyter-widgets/controls",
          "model_name": "HTMLModel",
          "model_module_version": "1.5.0",
          "state": {
            "_dom_classes": [],
            "_model_module": "@jupyter-widgets/controls",
            "_model_module_version": "1.5.0",
            "_model_name": "HTMLModel",
            "_view_count": null,
            "_view_module": "@jupyter-widgets/controls",
            "_view_module_version": "1.5.0",
            "_view_name": "HTMLView",
            "description": "",
            "description_tooltip": null,
            "layout": "IPY_MODEL_06c8d13585c64a658903f8211af100f0",
            "placeholder": "​",
            "style": "IPY_MODEL_ff471c394185466aa999f59f55365eb6",
            "value": " 500/500 [00:00&lt;00:00, 863.78 examples/s]"
          }
        },
        "435855cd4e45421c9be69b2eafa7c2c6": {
          "model_module": "@jupyter-widgets/base",
          "model_name": "LayoutModel",
          "model_module_version": "1.2.0",
          "state": {
            "_model_module": "@jupyter-widgets/base",
            "_model_module_version": "1.2.0",
            "_model_name": "LayoutModel",
            "_view_count": null,
            "_view_module": "@jupyter-widgets/base",
            "_view_module_version": "1.2.0",
            "_view_name": "LayoutView",
            "align_content": null,
            "align_items": null,
            "align_self": null,
            "border": null,
            "bottom": null,
            "display": null,
            "flex": null,
            "flex_flow": null,
            "grid_area": null,
            "grid_auto_columns": null,
            "grid_auto_flow": null,
            "grid_auto_rows": null,
            "grid_column": null,
            "grid_gap": null,
            "grid_row": null,
            "grid_template_areas": null,
            "grid_template_columns": null,
            "grid_template_rows": null,
            "height": null,
            "justify_content": null,
            "justify_items": null,
            "left": null,
            "margin": null,
            "max_height": null,
            "max_width": null,
            "min_height": null,
            "min_width": null,
            "object_fit": null,
            "object_position": null,
            "order": null,
            "overflow": null,
            "overflow_x": null,
            "overflow_y": null,
            "padding": null,
            "right": null,
            "top": null,
            "visibility": null,
            "width": null
          }
        },
        "5b89c7df496a4cc4b0fe7c5e339baa0e": {
          "model_module": "@jupyter-widgets/base",
          "model_name": "LayoutModel",
          "model_module_version": "1.2.0",
          "state": {
            "_model_module": "@jupyter-widgets/base",
            "_model_module_version": "1.2.0",
            "_model_name": "LayoutModel",
            "_view_count": null,
            "_view_module": "@jupyter-widgets/base",
            "_view_module_version": "1.2.0",
            "_view_name": "LayoutView",
            "align_content": null,
            "align_items": null,
            "align_self": null,
            "border": null,
            "bottom": null,
            "display": null,
            "flex": null,
            "flex_flow": null,
            "grid_area": null,
            "grid_auto_columns": null,
            "grid_auto_flow": null,
            "grid_auto_rows": null,
            "grid_column": null,
            "grid_gap": null,
            "grid_row": null,
            "grid_template_areas": null,
            "grid_template_columns": null,
            "grid_template_rows": null,
            "height": null,
            "justify_content": null,
            "justify_items": null,
            "left": null,
            "margin": null,
            "max_height": null,
            "max_width": null,
            "min_height": null,
            "min_width": null,
            "object_fit": null,
            "object_position": null,
            "order": null,
            "overflow": null,
            "overflow_x": null,
            "overflow_y": null,
            "padding": null,
            "right": null,
            "top": null,
            "visibility": null,
            "width": null
          }
        },
        "620b4e3362484015b987b4820c7cbca1": {
          "model_module": "@jupyter-widgets/controls",
          "model_name": "DescriptionStyleModel",
          "model_module_version": "1.5.0",
          "state": {
            "_model_module": "@jupyter-widgets/controls",
            "_model_module_version": "1.5.0",
            "_model_name": "DescriptionStyleModel",
            "_view_count": null,
            "_view_module": "@jupyter-widgets/base",
            "_view_module_version": "1.2.0",
            "_view_name": "StyleView",
            "description_width": ""
          }
        },
        "3b51d823ed6c43548d1c99aaf6f483e0": {
          "model_module": "@jupyter-widgets/base",
          "model_name": "LayoutModel",
          "model_module_version": "1.2.0",
          "state": {
            "_model_module": "@jupyter-widgets/base",
            "_model_module_version": "1.2.0",
            "_model_name": "LayoutModel",
            "_view_count": null,
            "_view_module": "@jupyter-widgets/base",
            "_view_module_version": "1.2.0",
            "_view_name": "LayoutView",
            "align_content": null,
            "align_items": null,
            "align_self": null,
            "border": null,
            "bottom": null,
            "display": null,
            "flex": null,
            "flex_flow": null,
            "grid_area": null,
            "grid_auto_columns": null,
            "grid_auto_flow": null,
            "grid_auto_rows": null,
            "grid_column": null,
            "grid_gap": null,
            "grid_row": null,
            "grid_template_areas": null,
            "grid_template_columns": null,
            "grid_template_rows": null,
            "height": null,
            "justify_content": null,
            "justify_items": null,
            "left": null,
            "margin": null,
            "max_height": null,
            "max_width": null,
            "min_height": null,
            "min_width": null,
            "object_fit": null,
            "object_position": null,
            "order": null,
            "overflow": null,
            "overflow_x": null,
            "overflow_y": null,
            "padding": null,
            "right": null,
            "top": null,
            "visibility": null,
            "width": null
          }
        },
        "1df2c790aaf84b36b3c5cd1a3853e09a": {
          "model_module": "@jupyter-widgets/controls",
          "model_name": "ProgressStyleModel",
          "model_module_version": "1.5.0",
          "state": {
            "_model_module": "@jupyter-widgets/controls",
            "_model_module_version": "1.5.0",
            "_model_name": "ProgressStyleModel",
            "_view_count": null,
            "_view_module": "@jupyter-widgets/base",
            "_view_module_version": "1.2.0",
            "_view_name": "StyleView",
            "bar_color": null,
            "description_width": ""
          }
        },
        "06c8d13585c64a658903f8211af100f0": {
          "model_module": "@jupyter-widgets/base",
          "model_name": "LayoutModel",
          "model_module_version": "1.2.0",
          "state": {
            "_model_module": "@jupyter-widgets/base",
            "_model_module_version": "1.2.0",
            "_model_name": "LayoutModel",
            "_view_count": null,
            "_view_module": "@jupyter-widgets/base",
            "_view_module_version": "1.2.0",
            "_view_name": "LayoutView",
            "align_content": null,
            "align_items": null,
            "align_self": null,
            "border": null,
            "bottom": null,
            "display": null,
            "flex": null,
            "flex_flow": null,
            "grid_area": null,
            "grid_auto_columns": null,
            "grid_auto_flow": null,
            "grid_auto_rows": null,
            "grid_column": null,
            "grid_gap": null,
            "grid_row": null,
            "grid_template_areas": null,
            "grid_template_columns": null,
            "grid_template_rows": null,
            "height": null,
            "justify_content": null,
            "justify_items": null,
            "left": null,
            "margin": null,
            "max_height": null,
            "max_width": null,
            "min_height": null,
            "min_width": null,
            "object_fit": null,
            "object_position": null,
            "order": null,
            "overflow": null,
            "overflow_x": null,
            "overflow_y": null,
            "padding": null,
            "right": null,
            "top": null,
            "visibility": null,
            "width": null
          }
        },
        "ff471c394185466aa999f59f55365eb6": {
          "model_module": "@jupyter-widgets/controls",
          "model_name": "DescriptionStyleModel",
          "model_module_version": "1.5.0",
          "state": {
            "_model_module": "@jupyter-widgets/controls",
            "_model_module_version": "1.5.0",
            "_model_name": "DescriptionStyleModel",
            "_view_count": null,
            "_view_module": "@jupyter-widgets/base",
            "_view_module_version": "1.2.0",
            "_view_name": "StyleView",
            "description_width": ""
          }
        },
        "2e3d4f8f4c204ba5b37102db1f7f31b8": {
          "model_module": "@jupyter-widgets/controls",
          "model_name": "HBoxModel",
          "model_module_version": "1.5.0",
          "state": {
            "_dom_classes": [],
            "_model_module": "@jupyter-widgets/controls",
            "_model_module_version": "1.5.0",
            "_model_name": "HBoxModel",
            "_view_count": null,
            "_view_module": "@jupyter-widgets/controls",
            "_view_module_version": "1.5.0",
            "_view_name": "HBoxView",
            "box_style": "",
            "children": [
              "IPY_MODEL_ce270cfc4b404ac0aeb31d0e57a2fef8",
              "IPY_MODEL_a763876565b14ec2bb3e0540d28d1f83",
              "IPY_MODEL_3ae629a2556e48a2b7840ea178e0625c"
            ],
            "layout": "IPY_MODEL_073fe0af3d044d088d61b3c59dae7540"
          }
        },
        "ce270cfc4b404ac0aeb31d0e57a2fef8": {
          "model_module": "@jupyter-widgets/controls",
          "model_name": "HTMLModel",
          "model_module_version": "1.5.0",
          "state": {
            "_dom_classes": [],
            "_model_module": "@jupyter-widgets/controls",
            "_model_module_version": "1.5.0",
            "_model_name": "HTMLModel",
            "_view_count": null,
            "_view_module": "@jupyter-widgets/controls",
            "_view_module_version": "1.5.0",
            "_view_name": "HTMLView",
            "description": "",
            "description_tooltip": null,
            "layout": "IPY_MODEL_7786a5d5cc3e490a8bd4d9f846368ba6",
            "placeholder": "​",
            "style": "IPY_MODEL_6e695d3398f04edaa16e74f2b58685c6",
            "value": "Map: 100%"
          }
        },
        "a763876565b14ec2bb3e0540d28d1f83": {
          "model_module": "@jupyter-widgets/controls",
          "model_name": "FloatProgressModel",
          "model_module_version": "1.5.0",
          "state": {
            "_dom_classes": [],
            "_model_module": "@jupyter-widgets/controls",
            "_model_module_version": "1.5.0",
            "_model_name": "FloatProgressModel",
            "_view_count": null,
            "_view_module": "@jupyter-widgets/controls",
            "_view_module_version": "1.5.0",
            "_view_name": "ProgressView",
            "bar_style": "success",
            "description": "",
            "description_tooltip": null,
            "layout": "IPY_MODEL_ba5bae17f64f46ffb06fa9d9f831222a",
            "max": 250,
            "min": 0,
            "orientation": "horizontal",
            "style": "IPY_MODEL_12520992429949a4816b8b467c97b569",
            "value": 250
          }
        },
        "3ae629a2556e48a2b7840ea178e0625c": {
          "model_module": "@jupyter-widgets/controls",
          "model_name": "HTMLModel",
          "model_module_version": "1.5.0",
          "state": {
            "_dom_classes": [],
            "_model_module": "@jupyter-widgets/controls",
            "_model_module_version": "1.5.0",
            "_model_name": "HTMLModel",
            "_view_count": null,
            "_view_module": "@jupyter-widgets/controls",
            "_view_module_version": "1.5.0",
            "_view_name": "HTMLView",
            "description": "",
            "description_tooltip": null,
            "layout": "IPY_MODEL_d3e194c3bd9c4cbc941cb4bf757aa20a",
            "placeholder": "​",
            "style": "IPY_MODEL_8ae5d1a569204060a9a75e67e7b72bed",
            "value": " 250/250 [00:00&lt;00:00, 862.56 examples/s]"
          }
        },
        "073fe0af3d044d088d61b3c59dae7540": {
          "model_module": "@jupyter-widgets/base",
          "model_name": "LayoutModel",
          "model_module_version": "1.2.0",
          "state": {
            "_model_module": "@jupyter-widgets/base",
            "_model_module_version": "1.2.0",
            "_model_name": "LayoutModel",
            "_view_count": null,
            "_view_module": "@jupyter-widgets/base",
            "_view_module_version": "1.2.0",
            "_view_name": "LayoutView",
            "align_content": null,
            "align_items": null,
            "align_self": null,
            "border": null,
            "bottom": null,
            "display": null,
            "flex": null,
            "flex_flow": null,
            "grid_area": null,
            "grid_auto_columns": null,
            "grid_auto_flow": null,
            "grid_auto_rows": null,
            "grid_column": null,
            "grid_gap": null,
            "grid_row": null,
            "grid_template_areas": null,
            "grid_template_columns": null,
            "grid_template_rows": null,
            "height": null,
            "justify_content": null,
            "justify_items": null,
            "left": null,
            "margin": null,
            "max_height": null,
            "max_width": null,
            "min_height": null,
            "min_width": null,
            "object_fit": null,
            "object_position": null,
            "order": null,
            "overflow": null,
            "overflow_x": null,
            "overflow_y": null,
            "padding": null,
            "right": null,
            "top": null,
            "visibility": null,
            "width": null
          }
        },
        "7786a5d5cc3e490a8bd4d9f846368ba6": {
          "model_module": "@jupyter-widgets/base",
          "model_name": "LayoutModel",
          "model_module_version": "1.2.0",
          "state": {
            "_model_module": "@jupyter-widgets/base",
            "_model_module_version": "1.2.0",
            "_model_name": "LayoutModel",
            "_view_count": null,
            "_view_module": "@jupyter-widgets/base",
            "_view_module_version": "1.2.0",
            "_view_name": "LayoutView",
            "align_content": null,
            "align_items": null,
            "align_self": null,
            "border": null,
            "bottom": null,
            "display": null,
            "flex": null,
            "flex_flow": null,
            "grid_area": null,
            "grid_auto_columns": null,
            "grid_auto_flow": null,
            "grid_auto_rows": null,
            "grid_column": null,
            "grid_gap": null,
            "grid_row": null,
            "grid_template_areas": null,
            "grid_template_columns": null,
            "grid_template_rows": null,
            "height": null,
            "justify_content": null,
            "justify_items": null,
            "left": null,
            "margin": null,
            "max_height": null,
            "max_width": null,
            "min_height": null,
            "min_width": null,
            "object_fit": null,
            "object_position": null,
            "order": null,
            "overflow": null,
            "overflow_x": null,
            "overflow_y": null,
            "padding": null,
            "right": null,
            "top": null,
            "visibility": null,
            "width": null
          }
        },
        "6e695d3398f04edaa16e74f2b58685c6": {
          "model_module": "@jupyter-widgets/controls",
          "model_name": "DescriptionStyleModel",
          "model_module_version": "1.5.0",
          "state": {
            "_model_module": "@jupyter-widgets/controls",
            "_model_module_version": "1.5.0",
            "_model_name": "DescriptionStyleModel",
            "_view_count": null,
            "_view_module": "@jupyter-widgets/base",
            "_view_module_version": "1.2.0",
            "_view_name": "StyleView",
            "description_width": ""
          }
        },
        "ba5bae17f64f46ffb06fa9d9f831222a": {
          "model_module": "@jupyter-widgets/base",
          "model_name": "LayoutModel",
          "model_module_version": "1.2.0",
          "state": {
            "_model_module": "@jupyter-widgets/base",
            "_model_module_version": "1.2.0",
            "_model_name": "LayoutModel",
            "_view_count": null,
            "_view_module": "@jupyter-widgets/base",
            "_view_module_version": "1.2.0",
            "_view_name": "LayoutView",
            "align_content": null,
            "align_items": null,
            "align_self": null,
            "border": null,
            "bottom": null,
            "display": null,
            "flex": null,
            "flex_flow": null,
            "grid_area": null,
            "grid_auto_columns": null,
            "grid_auto_flow": null,
            "grid_auto_rows": null,
            "grid_column": null,
            "grid_gap": null,
            "grid_row": null,
            "grid_template_areas": null,
            "grid_template_columns": null,
            "grid_template_rows": null,
            "height": null,
            "justify_content": null,
            "justify_items": null,
            "left": null,
            "margin": null,
            "max_height": null,
            "max_width": null,
            "min_height": null,
            "min_width": null,
            "object_fit": null,
            "object_position": null,
            "order": null,
            "overflow": null,
            "overflow_x": null,
            "overflow_y": null,
            "padding": null,
            "right": null,
            "top": null,
            "visibility": null,
            "width": null
          }
        },
        "12520992429949a4816b8b467c97b569": {
          "model_module": "@jupyter-widgets/controls",
          "model_name": "ProgressStyleModel",
          "model_module_version": "1.5.0",
          "state": {
            "_model_module": "@jupyter-widgets/controls",
            "_model_module_version": "1.5.0",
            "_model_name": "ProgressStyleModel",
            "_view_count": null,
            "_view_module": "@jupyter-widgets/base",
            "_view_module_version": "1.2.0",
            "_view_name": "StyleView",
            "bar_color": null,
            "description_width": ""
          }
        },
        "d3e194c3bd9c4cbc941cb4bf757aa20a": {
          "model_module": "@jupyter-widgets/base",
          "model_name": "LayoutModel",
          "model_module_version": "1.2.0",
          "state": {
            "_model_module": "@jupyter-widgets/base",
            "_model_module_version": "1.2.0",
            "_model_name": "LayoutModel",
            "_view_count": null,
            "_view_module": "@jupyter-widgets/base",
            "_view_module_version": "1.2.0",
            "_view_name": "LayoutView",
            "align_content": null,
            "align_items": null,
            "align_self": null,
            "border": null,
            "bottom": null,
            "display": null,
            "flex": null,
            "flex_flow": null,
            "grid_area": null,
            "grid_auto_columns": null,
            "grid_auto_flow": null,
            "grid_auto_rows": null,
            "grid_column": null,
            "grid_gap": null,
            "grid_row": null,
            "grid_template_areas": null,
            "grid_template_columns": null,
            "grid_template_rows": null,
            "height": null,
            "justify_content": null,
            "justify_items": null,
            "left": null,
            "margin": null,
            "max_height": null,
            "max_width": null,
            "min_height": null,
            "min_width": null,
            "object_fit": null,
            "object_position": null,
            "order": null,
            "overflow": null,
            "overflow_x": null,
            "overflow_y": null,
            "padding": null,
            "right": null,
            "top": null,
            "visibility": null,
            "width": null
          }
        },
        "8ae5d1a569204060a9a75e67e7b72bed": {
          "model_module": "@jupyter-widgets/controls",
          "model_name": "DescriptionStyleModel",
          "model_module_version": "1.5.0",
          "state": {
            "_model_module": "@jupyter-widgets/controls",
            "_model_module_version": "1.5.0",
            "_model_name": "DescriptionStyleModel",
            "_view_count": null,
            "_view_module": "@jupyter-widgets/base",
            "_view_module_version": "1.2.0",
            "_view_name": "StyleView",
            "description_width": ""
          }
        }
      }
    }
  },
  "cells": [
    {
      "cell_type": "markdown",
      "metadata": {
        "id": "view-in-github",
        "colab_type": "text"
      },
      "source": [
        "<a href=\"https://colab.research.google.com/github/tolossamuel/Icog-Intern/blob/main/Prompt_Engineering/FTVsPE.ipynb\" target=\"_parent\"><img src=\"https://colab.research.google.com/assets/colab-badge.svg\" alt=\"Open In Colab\"/></a>"
      ]
    },
    {
      "cell_type": "code",
      "source": [
        "import torch\n",
        "from datasets import load_dataset, DatasetDict\n",
        "from transformers import AutoTokenizer, AutoModelForSequenceClassification, TrainingArguments, Trainer\n",
        "import numpy as np\n",
        "import evaluate\n",
        "import pandas as pd\n",
        "import warnings\n",
        "warnings.filterwarnings('ignore')\n"
      ],
      "metadata": {
        "id": "tNS3i99dP-GI"
      },
      "execution_count": 2,
      "outputs": []
    },
    {
      "cell_type": "code",
      "source": [
        "# The 'imdb' dataset from Hugging Face is already split into train/test\n",
        "dataset = load_dataset(\"imdb\")\n"
      ],
      "metadata": {
        "id": "NyySslrCRDgp"
      },
      "execution_count": 3,
      "outputs": []
    },
    {
      "cell_type": "code",
      "source": [
        "dataset"
      ],
      "metadata": {
        "colab": {
          "base_uri": "https://localhost:8080/"
        },
        "id": "OnBFJhAORYc_",
        "outputId": "314cc30c-3a92-4de1-8860-06d4c068874b"
      },
      "execution_count": 4,
      "outputs": [
        {
          "output_type": "execute_result",
          "data": {
            "text/plain": [
              "DatasetDict({\n",
              "    train: Dataset({\n",
              "        features: ['text', 'label'],\n",
              "        num_rows: 25000\n",
              "    })\n",
              "    test: Dataset({\n",
              "        features: ['text', 'label'],\n",
              "        num_rows: 25000\n",
              "    })\n",
              "    unsupervised: Dataset({\n",
              "        features: ['text', 'label'],\n",
              "        num_rows: 50000\n",
              "    })\n",
              "})"
            ]
          },
          "metadata": {},
          "execution_count": 4
        }
      ]
    },
    {
      "cell_type": "code",
      "source": [
        "# For a real task, you would typically use the full dataset\n",
        "small_train_dataset = dataset[\"train\"].shuffle(seed=42).select(range(500))\n",
        "small_test_dataset = dataset[\"test\"].shuffle(seed=42).select(range(250))\n"
      ],
      "metadata": {
        "id": "z5wGb5mERNJH"
      },
      "execution_count": 5,
      "outputs": []
    },
    {
      "cell_type": "code",
      "source": [
        "# Create a new DatasetDict with the smaller subsets\n",
        "small_dataset = DatasetDict({\n",
        "    \"train\": small_train_dataset,\n",
        "    \"test\": small_test_dataset\n",
        "})"
      ],
      "metadata": {
        "id": "0fjr_ZsoQE-f"
      },
      "execution_count": 6,
      "outputs": []
    },
    {
      "cell_type": "code",
      "source": [
        "print(\"Dataset loaded and subset created:\")\n",
        "print(small_dataset)"
      ],
      "metadata": {
        "colab": {
          "base_uri": "https://localhost:8080/"
        },
        "id": "j-iq0dkpQIfb",
        "outputId": "9e86c3e6-6812-4a1e-86ba-608ea6f57d48"
      },
      "execution_count": null,
      "outputs": [
        {
          "output_type": "stream",
          "name": "stdout",
          "text": [
            "Dataset loaded and subset created:\n",
            "DatasetDict({\n",
            "    train: Dataset({\n",
            "        features: ['text', 'label'],\n",
            "        num_rows: 500\n",
            "    })\n",
            "    test: Dataset({\n",
            "        features: ['text', 'label'],\n",
            "        num_rows: 250\n",
            "    })\n",
            "})\n"
          ]
        }
      ]
    },
    {
      "cell_type": "code",
      "source": [
        "# Load the tokenizer for the chosen model\n",
        "model_checkpoint = \"distilbert-base-uncased\"\n",
        "tokenizer = AutoTokenizer.from_pretrained(model_checkpoint)"
      ],
      "metadata": {
        "id": "mzxzDuQdQk8N"
      },
      "execution_count": null,
      "outputs": []
    },
    {
      "cell_type": "code",
      "source": [
        "# Preprocessing function to tokenize the text\n",
        "def preprocess_function(examples):\n",
        "    return tokenizer(examples[\"text\"], truncation=True, padding=True)"
      ],
      "metadata": {
        "id": "iEFGc2tnRm7w"
      },
      "execution_count": null,
      "outputs": []
    },
    {
      "cell_type": "code",
      "source": [
        "# Use batched=True to speed up the processing\n",
        "tokenized_dataset = small_dataset.map(preprocess_function, batched=True)"
      ],
      "metadata": {
        "colab": {
          "base_uri": "https://localhost:8080/",
          "height": 81,
          "referenced_widgets": [
            "0aceb3687ccb4cd49b7d54e755fe0f6b",
            "550e3348985a4fd6be46757aaad7dd97",
            "8176d8c8cc2f48b393d806e331705028",
            "9d4f0b1828d948cc8ce451beacb368e3",
            "435855cd4e45421c9be69b2eafa7c2c6",
            "5b89c7df496a4cc4b0fe7c5e339baa0e",
            "620b4e3362484015b987b4820c7cbca1",
            "3b51d823ed6c43548d1c99aaf6f483e0",
            "1df2c790aaf84b36b3c5cd1a3853e09a",
            "06c8d13585c64a658903f8211af100f0",
            "ff471c394185466aa999f59f55365eb6",
            "2e3d4f8f4c204ba5b37102db1f7f31b8",
            "ce270cfc4b404ac0aeb31d0e57a2fef8",
            "a763876565b14ec2bb3e0540d28d1f83",
            "3ae629a2556e48a2b7840ea178e0625c",
            "073fe0af3d044d088d61b3c59dae7540",
            "7786a5d5cc3e490a8bd4d9f846368ba6",
            "6e695d3398f04edaa16e74f2b58685c6",
            "ba5bae17f64f46ffb06fa9d9f831222a",
            "12520992429949a4816b8b467c97b569",
            "d3e194c3bd9c4cbc941cb4bf757aa20a",
            "8ae5d1a569204060a9a75e67e7b72bed"
          ]
        },
        "id": "aLVC3Gc0RpGZ",
        "outputId": "5c4460bf-65ef-4d65-a9aa-f19951a7844e"
      },
      "execution_count": null,
      "outputs": [
        {
          "output_type": "display_data",
          "data": {
            "text/plain": [
              "Map:   0%|          | 0/500 [00:00<?, ? examples/s]"
            ],
            "application/vnd.jupyter.widget-view+json": {
              "version_major": 2,
              "version_minor": 0,
              "model_id": "0aceb3687ccb4cd49b7d54e755fe0f6b"
            }
          },
          "metadata": {}
        },
        {
          "output_type": "display_data",
          "data": {
            "text/plain": [
              "Map:   0%|          | 0/250 [00:00<?, ? examples/s]"
            ],
            "application/vnd.jupyter.widget-view+json": {
              "version_major": 2,
              "version_minor": 0,
              "model_id": "2e3d4f8f4c204ba5b37102db1f7f31b8"
            }
          },
          "metadata": {}
        }
      ]
    },
    {
      "cell_type": "code",
      "source": [
        "tokenized_dataset = tokenized_dataset.rename_column(\"label\", \"labels\")"
      ],
      "metadata": {
        "id": "1vw70frfRs1r"
      },
      "execution_count": null,
      "outputs": []
    },
    {
      "cell_type": "code",
      "source": [
        "# Set the format to PyTorch tensors\n",
        "tokenized_dataset.set_format(\"torch\")"
      ],
      "metadata": {
        "id": "Cz48GrUCRxtK"
      },
      "execution_count": null,
      "outputs": []
    },
    {
      "cell_type": "code",
      "source": [
        "print(\"\\nDataset after tokenization and formatting:\")\n",
        "print(tokenized_dataset)\n",
        "print(\"Example tokenized data entry:\")\n",
        "print(tokenized_dataset[\"train\"][0])"
      ],
      "metadata": {
        "colab": {
          "base_uri": "https://localhost:8080/"
        },
        "id": "GvrKOoCHR0Lq",
        "outputId": "c1495eee-37a0-49d3-a046-c7d083ac0f4f"
      },
      "execution_count": null,
      "outputs": [
        {
          "output_type": "stream",
          "name": "stdout",
          "text": [
            "\n",
            "Dataset after tokenization and formatting:\n",
            "DatasetDict({\n",
            "    train: Dataset({\n",
            "        features: ['text', 'labels', 'input_ids', 'attention_mask'],\n",
            "        num_rows: 500\n",
            "    })\n",
            "    test: Dataset({\n",
            "        features: ['text', 'labels', 'input_ids', 'attention_mask'],\n",
            "        num_rows: 250\n",
            "    })\n",
            "})\n",
            "Example tokenized data entry:\n",
            "{'text': 'There is no relation at all between Fortier and Profiler but the fact that both are police series about violent crimes. Profiler looks crispy, Fortier looks classic. Profiler plots are quite simple. Fortier\\'s plot are far more complicated... Fortier looks more like Prime Suspect, if we have to spot similarities... The main character is weak and weirdo, but have \"clairvoyance\". People like to compare, to judge, to evaluate. How about just enjoying? Funny thing too, people writing Fortier looks American but, on the other hand, arguing they prefer American series (!!!). Maybe it\\'s the language, or the spirit, but I think this series is more English than American. By the way, the actors are really good and funny. The acting is not superficial at all...', 'labels': tensor(1), 'input_ids': tensor([  101,  2045,  2003,  2053,  7189,  2012,  2035,  2090,  3481,  3771,\n",
            "         1998,  6337,  2099,  2021,  1996,  2755,  2008,  2119,  2024,  2610,\n",
            "         2186,  2055,  6355,  6997,  1012,  6337,  2099,  3504, 15594,  2100,\n",
            "         1010,  3481,  3771,  3504,  4438,  1012,  6337,  2099, 14811,  2024,\n",
            "         3243,  3722,  1012,  3481,  3771,  1005,  1055,  5436,  2024,  2521,\n",
            "         2062,  8552,  1012,  1012,  1012,  3481,  3771,  3504,  2062,  2066,\n",
            "         3539,  8343,  1010,  2065,  2057,  2031,  2000,  3962, 12319,  1012,\n",
            "         1012,  1012,  1996,  2364,  2839,  2003,  5410,  1998,  6881,  2080,\n",
            "         1010,  2021,  2031,  1000, 17936,  6767,  7054,  3401,  1000,  1012,\n",
            "         2111,  2066,  2000, 12826,  1010,  2000,  3648,  1010,  2000, 16157,\n",
            "         1012,  2129,  2055,  2074,  9107,  1029,  6057,  2518,  2205,  1010,\n",
            "         2111,  3015,  3481,  3771,  3504,  2137,  2021,  1010,  2006,  1996,\n",
            "         2060,  2192,  1010,  9177,  2027,  9544,  2137,  2186,  1006,   999,\n",
            "          999,   999,  1007,  1012,  2672,  2009,  1005,  1055,  1996,  2653,\n",
            "         1010,  2030,  1996,  4382,  1010,  2021,  1045,  2228,  2023,  2186,\n",
            "         2003,  2062,  2394,  2084,  2137,  1012,  2011,  1996,  2126,  1010,\n",
            "         1996,  5889,  2024,  2428,  2204,  1998,  6057,  1012,  1996,  3772,\n",
            "         2003,  2025, 23105,  2012,  2035,  1012,  1012,  1012,   102,     0,\n",
            "            0,     0,     0,     0,     0,     0,     0,     0,     0,     0,\n",
            "            0,     0,     0,     0,     0,     0,     0,     0,     0,     0,\n",
            "            0,     0,     0,     0,     0,     0,     0,     0,     0,     0,\n",
            "            0,     0,     0,     0,     0,     0,     0,     0,     0,     0,\n",
            "            0,     0,     0,     0,     0,     0,     0,     0,     0,     0,\n",
            "            0,     0,     0,     0,     0,     0,     0,     0,     0,     0,\n",
            "            0,     0,     0,     0,     0,     0,     0,     0,     0,     0,\n",
            "            0,     0,     0,     0,     0,     0,     0,     0,     0,     0,\n",
            "            0,     0,     0,     0,     0,     0,     0,     0,     0,     0,\n",
            "            0,     0,     0,     0,     0,     0,     0,     0,     0,     0,\n",
            "            0,     0,     0,     0,     0,     0,     0,     0,     0,     0,\n",
            "            0,     0,     0,     0,     0,     0,     0,     0,     0,     0,\n",
            "            0,     0,     0,     0,     0,     0,     0,     0,     0,     0,\n",
            "            0,     0,     0,     0,     0,     0,     0,     0,     0,     0,\n",
            "            0,     0,     0,     0,     0,     0,     0,     0,     0,     0,\n",
            "            0,     0,     0,     0,     0,     0,     0,     0,     0,     0,\n",
            "            0,     0,     0,     0,     0,     0,     0,     0,     0,     0,\n",
            "            0,     0,     0,     0,     0,     0,     0,     0,     0,     0,\n",
            "            0,     0,     0,     0,     0,     0,     0,     0,     0,     0,\n",
            "            0,     0,     0,     0,     0,     0,     0,     0,     0,     0,\n",
            "            0,     0,     0,     0,     0,     0,     0,     0,     0,     0,\n",
            "            0,     0,     0,     0,     0,     0,     0,     0,     0,     0,\n",
            "            0,     0,     0,     0,     0,     0,     0,     0,     0,     0,\n",
            "            0,     0,     0,     0,     0,     0,     0,     0,     0,     0,\n",
            "            0,     0,     0,     0,     0,     0,     0,     0,     0,     0,\n",
            "            0,     0,     0,     0,     0,     0,     0,     0,     0,     0,\n",
            "            0,     0,     0,     0,     0,     0,     0,     0,     0,     0,\n",
            "            0,     0,     0,     0,     0,     0,     0,     0,     0,     0,\n",
            "            0,     0,     0,     0,     0,     0,     0,     0,     0,     0,\n",
            "            0,     0,     0,     0,     0,     0,     0,     0,     0,     0,\n",
            "            0,     0,     0,     0,     0,     0,     0,     0,     0,     0,\n",
            "            0,     0,     0,     0,     0,     0,     0,     0,     0,     0,\n",
            "            0,     0,     0,     0,     0,     0,     0,     0,     0,     0,\n",
            "            0,     0]), 'attention_mask': tensor([1, 1, 1, 1, 1, 1, 1, 1, 1, 1, 1, 1, 1, 1, 1, 1, 1, 1, 1, 1, 1, 1, 1, 1,\n",
            "        1, 1, 1, 1, 1, 1, 1, 1, 1, 1, 1, 1, 1, 1, 1, 1, 1, 1, 1, 1, 1, 1, 1, 1,\n",
            "        1, 1, 1, 1, 1, 1, 1, 1, 1, 1, 1, 1, 1, 1, 1, 1, 1, 1, 1, 1, 1, 1, 1, 1,\n",
            "        1, 1, 1, 1, 1, 1, 1, 1, 1, 1, 1, 1, 1, 1, 1, 1, 1, 1, 1, 1, 1, 1, 1, 1,\n",
            "        1, 1, 1, 1, 1, 1, 1, 1, 1, 1, 1, 1, 1, 1, 1, 1, 1, 1, 1, 1, 1, 1, 1, 1,\n",
            "        1, 1, 1, 1, 1, 1, 1, 1, 1, 1, 1, 1, 1, 1, 1, 1, 1, 1, 1, 1, 1, 1, 1, 1,\n",
            "        1, 1, 1, 1, 1, 1, 1, 1, 1, 1, 1, 1, 1, 1, 1, 1, 1, 1, 1, 1, 1, 1, 1, 1,\n",
            "        1, 1, 1, 1, 1, 1, 1, 1, 1, 1, 1, 0, 0, 0, 0, 0, 0, 0, 0, 0, 0, 0, 0, 0,\n",
            "        0, 0, 0, 0, 0, 0, 0, 0, 0, 0, 0, 0, 0, 0, 0, 0, 0, 0, 0, 0, 0, 0, 0, 0,\n",
            "        0, 0, 0, 0, 0, 0, 0, 0, 0, 0, 0, 0, 0, 0, 0, 0, 0, 0, 0, 0, 0, 0, 0, 0,\n",
            "        0, 0, 0, 0, 0, 0, 0, 0, 0, 0, 0, 0, 0, 0, 0, 0, 0, 0, 0, 0, 0, 0, 0, 0,\n",
            "        0, 0, 0, 0, 0, 0, 0, 0, 0, 0, 0, 0, 0, 0, 0, 0, 0, 0, 0, 0, 0, 0, 0, 0,\n",
            "        0, 0, 0, 0, 0, 0, 0, 0, 0, 0, 0, 0, 0, 0, 0, 0, 0, 0, 0, 0, 0, 0, 0, 0,\n",
            "        0, 0, 0, 0, 0, 0, 0, 0, 0, 0, 0, 0, 0, 0, 0, 0, 0, 0, 0, 0, 0, 0, 0, 0,\n",
            "        0, 0, 0, 0, 0, 0, 0, 0, 0, 0, 0, 0, 0, 0, 0, 0, 0, 0, 0, 0, 0, 0, 0, 0,\n",
            "        0, 0, 0, 0, 0, 0, 0, 0, 0, 0, 0, 0, 0, 0, 0, 0, 0, 0, 0, 0, 0, 0, 0, 0,\n",
            "        0, 0, 0, 0, 0, 0, 0, 0, 0, 0, 0, 0, 0, 0, 0, 0, 0, 0, 0, 0, 0, 0, 0, 0,\n",
            "        0, 0, 0, 0, 0, 0, 0, 0, 0, 0, 0, 0, 0, 0, 0, 0, 0, 0, 0, 0, 0, 0, 0, 0,\n",
            "        0, 0, 0, 0, 0, 0, 0, 0, 0, 0, 0, 0, 0, 0, 0, 0, 0, 0, 0, 0, 0, 0, 0, 0,\n",
            "        0, 0, 0, 0, 0, 0, 0, 0, 0, 0, 0, 0, 0, 0, 0, 0, 0, 0, 0, 0, 0, 0, 0, 0,\n",
            "        0, 0, 0, 0, 0, 0, 0, 0, 0, 0, 0, 0, 0, 0, 0, 0, 0, 0, 0, 0, 0, 0, 0, 0,\n",
            "        0, 0, 0, 0, 0, 0, 0, 0])}\n"
          ]
        }
      ]
    },
    {
      "cell_type": "code",
      "source": [
        "# --- 3. Model Selection & Fine-tuning ---\n",
        "print(\"\\nLoading the pre-trained model...\")"
      ],
      "metadata": {
        "colab": {
          "base_uri": "https://localhost:8080/"
        },
        "id": "fsgVmxWwR17F",
        "outputId": "bc8ae7a2-5d41-4552-96ad-d29e324b8fc9"
      },
      "execution_count": null,
      "outputs": [
        {
          "output_type": "stream",
          "name": "stdout",
          "text": [
            "\n",
            "Loading the pre-trained model...\n"
          ]
        }
      ]
    },
    {
      "cell_type": "code",
      "source": [
        "model = AutoModelForSequenceClassification.from_pretrained(model_checkpoint, num_labels=2)"
      ],
      "metadata": {
        "colab": {
          "base_uri": "https://localhost:8080/"
        },
        "id": "qRsc9ME-R7Tl",
        "outputId": "a5ad44f6-1911-499d-adb0-42455908dbd5"
      },
      "execution_count": null,
      "outputs": [
        {
          "output_type": "stream",
          "name": "stderr",
          "text": [
            "Some weights of DistilBertForSequenceClassification were not initialized from the model checkpoint at distilbert-base-uncased and are newly initialized: ['classifier.bias', 'classifier.weight', 'pre_classifier.bias', 'pre_classifier.weight']\n",
            "You should probably TRAIN this model on a down-stream task to be able to use it for predictions and inference.\n"
          ]
        }
      ]
    },
    {
      "cell_type": "code",
      "source": [
        "# Define the metrics to evaluate during training\n",
        "metric = evaluate.load(\"accuracy\")"
      ],
      "metadata": {
        "id": "qwCgnUGHR9YT"
      },
      "execution_count": null,
      "outputs": []
    },
    {
      "cell_type": "code",
      "source": [
        "# Function to compute metrics\n",
        "def compute_metrics(eval_pred):\n",
        "    logits, labels = eval_pred\n",
        "    predictions = np.argmax(logits, axis=-1)\n",
        "    return metric.compute(predictions=predictions, references=labels)"
      ],
      "metadata": {
        "id": "0rHSXBPXSA_0"
      },
      "execution_count": null,
      "outputs": []
    },
    {
      "cell_type": "code",
      "source": [
        "# Define training arguments\n",
        "# These control the training process and hyperparameters\n",
        "training_args = TrainingArguments(\n",
        "    output_dir=\"./results\",          # Output directory for checkpoints and logs\n",
        "    eval_strategy=\"epoch\",     # Evaluate every epoch (Corrected argument name)\n",
        "    learning_rate=2e-5,              # Learning rate\n",
        "    per_device_train_batch_size=16,  # Batch size per GPU/CPU for training\n",
        "    per_device_eval_batch_size=16,   # Batch size per GPU/CPU for evaluation\n",
        "    num_train_epochs=3,              # Number of training epochs\n",
        "    weight_decay=0.01,               # AdamW optimizer weight decay\n",
        "    push_to_hub=False,               # Whether to push the model to the Hub\n",
        "    logging_dir='./logs',            # Directory for storing logs\n",
        "    logging_steps=10,                # Log every 10 steps\n",
        "    report_to=\"none\",                # Disable reporting to services like W&B for this example\n",
        ")"
      ],
      "metadata": {
        "id": "SeJNSSuVSDIz"
      },
      "execution_count": null,
      "outputs": []
    },
    {
      "cell_type": "code",
      "source": [
        "# The Trainer class handles the training loop\n",
        "trainer = Trainer(\n",
        "    model=model,                         # The model to train\n",
        "    args=training_args,                  # The training arguments\n",
        "    train_dataset=tokenized_dataset[\"train\"], # The training dataset\n",
        "    eval_dataset=tokenized_dataset[\"test\"],   # The evaluation dataset\n",
        "    compute_metrics=compute_metrics,     # The function to compute metrics\n",
        "    tokenizer=tokenizer,                 # The tokenizer used for preprocessing\n",
        ")\n"
      ],
      "metadata": {
        "id": "d8u0EGsrSHbm"
      },
      "execution_count": null,
      "outputs": []
    },
    {
      "cell_type": "code",
      "source": [
        "trainer.train()"
      ],
      "metadata": {
        "colab": {
          "base_uri": "https://localhost:8080/",
          "height": 325
        },
        "id": "EB6Y6fP1SR9k",
        "outputId": "3cf364b5-fccb-43c1-9a46-67493057c2b4"
      },
      "execution_count": null,
      "outputs": [
        {
          "data": {
            "text/html": [
              "\n",
              "    <div>\n",
              "      \n",
              "      <progress value='88' max='96' style='width:300px; height:20px; vertical-align: middle;'></progress>\n",
              "      [88/96 1:26:55 < 08:05, 0.02 it/s, Epoch 2.72/3]\n",
              "    </div>\n",
              "    <table border=\"1\" class=\"dataframe\">\n",
              "  <thead>\n",
              " <tr style=\"text-align: left;\">\n",
              "      <th>Epoch</th>\n",
              "      <th>Training Loss</th>\n",
              "      <th>Validation Loss</th>\n",
              "      <th>Accuracy</th>\n",
              "    </tr>\n",
              "  </thead>\n",
              "  <tbody>\n",
              "    <tr>\n",
              "      <td>1</td>\n",
              "      <td>0.641000</td>\n",
              "      <td>0.610159</td>\n",
              "      <td>0.768000</td>\n",
              "    </tr>\n",
              "    <tr>\n",
              "      <td>2</td>\n",
              "      <td>0.415800</td>\n",
              "      <td>0.398839</td>\n",
              "      <td>0.852000</td>\n",
              "    </tr>\n",
              "  </tbody>\n",
              "</table><p>"
            ],
            "text/plain": [
              "<IPython.core.display.HTML object>"
            ]
          },
          "metadata": {},
          "output_type": "display_data"
        },
        {
          "output_type": "display_data",
          "data": {
            "text/plain": [
              "<IPython.core.display.HTML object>"
            ],
            "text/html": [
              "\n",
              "    <div>\n",
              "      \n",
              "      <progress value='96' max='96' style='width:300px; height:20px; vertical-align: middle;'></progress>\n",
              "      [96/96 1:38:40, Epoch 3/3]\n",
              "    </div>\n",
              "    <table border=\"1\" class=\"dataframe\">\n",
              "  <thead>\n",
              " <tr style=\"text-align: left;\">\n",
              "      <th>Epoch</th>\n",
              "      <th>Training Loss</th>\n",
              "      <th>Validation Loss</th>\n",
              "      <th>Accuracy</th>\n",
              "    </tr>\n",
              "  </thead>\n",
              "  <tbody>\n",
              "    <tr>\n",
              "      <td>1</td>\n",
              "      <td>0.641000</td>\n",
              "      <td>0.610159</td>\n",
              "      <td>0.768000</td>\n",
              "    </tr>\n",
              "    <tr>\n",
              "      <td>2</td>\n",
              "      <td>0.415800</td>\n",
              "      <td>0.398839</td>\n",
              "      <td>0.852000</td>\n",
              "    </tr>\n",
              "    <tr>\n",
              "      <td>3</td>\n",
              "      <td>0.278800</td>\n",
              "      <td>0.367272</td>\n",
              "      <td>0.852000</td>\n",
              "    </tr>\n",
              "  </tbody>\n",
              "</table><p>"
            ]
          },
          "metadata": {}
        },
        {
          "output_type": "execute_result",
          "data": {
            "text/plain": [
              "TrainOutput(global_step=96, training_loss=0.47251592328151065, metrics={'train_runtime': 5979.5597, 'train_samples_per_second': 0.251, 'train_steps_per_second': 0.016, 'total_flos': 198701097984000.0, 'train_loss': 0.47251592328151065, 'epoch': 3.0})"
            ]
          },
          "metadata": {},
          "execution_count": 44
        }
      ]
    },
    {
      "cell_type": "code",
      "source": [
        "results = trainer.evaluate()\n",
        "print(f\"Evaluation results: {results}\")"
      ],
      "metadata": {
        "id": "VJf-80KGST_x",
        "colab": {
          "base_uri": "https://localhost:8080/",
          "height": 74
        },
        "outputId": "c31704f1-27d4-4fd1-b95b-2575fec6d3c9"
      },
      "execution_count": null,
      "outputs": [
        {
          "output_type": "display_data",
          "data": {
            "text/plain": [
              "<IPython.core.display.HTML object>"
            ],
            "text/html": [
              "\n",
              "    <div>\n",
              "      \n",
              "      <progress value='16' max='16' style='width:300px; height:20px; vertical-align: middle;'></progress>\n",
              "      [16/16 03:33]\n",
              "    </div>\n",
              "    "
            ]
          },
          "metadata": {}
        },
        {
          "output_type": "stream",
          "name": "stdout",
          "text": [
            "Evaluation results: {'eval_loss': 0.36727190017700195, 'eval_accuracy': 0.852, 'eval_runtime': 227.8185, 'eval_samples_per_second': 1.097, 'eval_steps_per_second': 0.07, 'epoch': 3.0}\n"
          ]
        }
      ]
    },
    {
      "cell_type": "markdown",
      "source": [
        "`Prompt Engineering`"
      ],
      "metadata": {
        "id": "aoT4hZzRwQN_"
      }
    },
    {
      "cell_type": "code",
      "source": [
        "# library\n",
        "import json\n",
        "import os\n",
        "import google.generativeai as genai\n",
        "from google.generativeai.types import HarmCategory, HarmBlockThreshold\n",
        "import time\n",
        "from google.colab import userdata"
      ],
      "metadata": {
        "id": "A0jwDanlSdTP"
      },
      "execution_count": 7,
      "outputs": []
    },
    {
      "cell_type": "code",
      "source": [
        "# gemini api key\n",
        "api_key = userdata.get('GOOGLE_API_KEY')"
      ],
      "metadata": {
        "id": "Gh2mbgR3wgkW"
      },
      "execution_count": 8,
      "outputs": []
    },
    {
      "cell_type": "code",
      "source": [
        "# llm model\n",
        "genai.configure(api_key=api_key)\n",
        "# print(\"Gemini API Key configured successfully.\")"
      ],
      "metadata": {
        "id": "7DaU2jGrwmvI"
      },
      "execution_count": 9,
      "outputs": []
    },
    {
      "cell_type": "code",
      "source": [
        "# Select the Gemini model\n",
        "# Other options: 'gemini-1.5-flash-latest', 'gemini-1.0-pro', etc.\n",
        "ANALYSIS_MODEL_NAME = 'gemini-1.5-flash-latest'\n",
        "RESPONSE_MODEL_NAME = 'gemini-1.5-flash-latest'"
      ],
      "metadata": {
        "id": "isQmgJU_wo3J"
      },
      "execution_count": 10,
      "outputs": []
    },
    {
      "cell_type": "code",
      "source": [
        "# Initialize the models\n",
        "try:\n",
        "    analysis_model = genai.GenerativeModel(ANALYSIS_MODEL_NAME)\n",
        "    response_model = genai.GenerativeModel(RESPONSE_MODEL_NAME)\n",
        "    print(f\"Initialized Gemini models: {ANALYSIS_MODEL_NAME}, {RESPONSE_MODEL_NAME}\")\n",
        "except Exception as e:\n",
        "    print(f\"Error initializing Gemini models: {e}\")\n",
        "    exit()"
      ],
      "metadata": {
        "colab": {
          "base_uri": "https://localhost:8080/"
        },
        "id": "qMxy356vwp-E",
        "outputId": "84d65fc3-9502-4859-c533-4c461951e660"
      },
      "execution_count": null,
      "outputs": [
        {
          "output_type": "stream",
          "name": "stdout",
          "text": [
            "Initialized Gemini models: gemini-1.5-flash-latest, gemini-1.5-flash-latest\n"
          ]
        }
      ]
    },
    {
      "cell_type": "code",
      "source": [
        "# --- Updated LLM Call Function ---\n",
        "def call_gemini_llm(prompt, model, model_name_for_log):\n",
        "    \"\"\"\n",
        "    Calls the specified Gemini LLM model with the given prompt.\n",
        "    Handles basic errors and safety blocking.\n",
        "    \"\"\"\n",
        "\n",
        "    try:\n",
        "        # Use generate_content for non-streaming\n",
        "        response = model.generate_content(\n",
        "            prompt\n",
        "            )\n",
        "\n",
        "        # Check for safety blocks or other issues before accessing text\n",
        "        if not response.candidates:\n",
        "             return \"\"\n",
        "\n",
        "        # More detailed safety check (optional)\n",
        "        first_candidate = response.candidates[0]\n",
        "        try:\n",
        "            response_text = response.text\n",
        "            return response_text\n",
        "        except ValueError as e:\n",
        "             return \"\" # Indicate failure\n",
        "\n",
        "    except Exception as e:\n",
        "        return \"\" # Indicate failure"
      ],
      "metadata": {
        "id": "F3Wrpu_lwriq"
      },
      "execution_count": null,
      "outputs": []
    },
    {
      "cell_type": "code",
      "source": [
        "# These examples guide the LLM on the task and format\n",
        "few_shot_examples = \"\"\"\n",
        "your task is identify the text as positive or negative and return only one of the two words.\n",
        "example :\n",
        "Review: This movie was fantastic! I loved every moment and the acting was superb.\n",
        "Sentiment: Positive\n",
        "\n",
        "Review: I couldn't stand this film. The plot was confusing and the characters were annoying.\n",
        "Sentiment: Negative\n",
        "\n",
        "Review: An absolute masterpiece of cinema. Highly recommended!\n",
        "Sentiment: Positive\n",
        "\n",
        "Review: The movie was boring and nothing really interesting happened.\n",
        "Sentiment: Negative\n",
        "\"\"\""
      ],
      "metadata": {
        "id": "_rLj432ZwxeT"
      },
      "execution_count": null,
      "outputs": []
    },
    {
      "cell_type": "code",
      "source": [
        "prompt_template = few_shot_examples + \"\"\"\n",
        "Identify the text as positive or negative and return only one of the two words,\n",
        "Review: {review_text}\n",
        "Sentiment:\n",
        "\"\"\""
      ],
      "metadata": {
        "id": "kgt_O6vx0NyZ"
      },
      "execution_count": null,
      "outputs": []
    },
    {
      "cell_type": "code",
      "source": [
        "def generate_response(review_text):\n",
        "    \"\"\"\n",
        "    Generates a draft response using the Gemini LLM with Few-Shot prompting.\n",
        "    \"\"\"\n",
        "\n",
        "    if not review_text:\n",
        "        return None\n",
        "\n",
        "    # Convert analysis dict back to JSON string for the prompt\n",
        "\n",
        "\n",
        "    prompt = prompt_template.format(review_text=review_text)\n",
        "    # print(prompt)\n",
        "\n",
        "    draft_response = call_gemini_llm(prompt, response_model, f\"{RESPONSE_MODEL_NAME} (Response Few-Shot)\")\n",
        "\n",
        "    if draft_response is None:\n",
        "        return None\n",
        "    # Clean up potential leading/trailing whitespace or markers if necessary\n",
        "    draft_response_cleaned = draft_response.strip()\n",
        "    return draft_response_cleaned\n"
      ],
      "metadata": {
        "id": "HYWtQDv2w1qZ"
      },
      "execution_count": null,
      "outputs": []
    },
    {
      "cell_type": "code",
      "source": [
        "def process_review_text(review_text):\n",
        "    \"\"\"\n",
        "    Orchestrates the analysis and response generation process using Gemini.\n",
        "    \"\"\"\n",
        "\n",
        "    # Handle empty input edge case\n",
        "    if not review_text or not review_text.strip():\n",
        "        return {\"error\": \"Empty input feedback\", \"feedback\": review_text}\n",
        "\n",
        "\n",
        "    response = generate_response(review_text)\n",
        "    time.sleep(1)\n",
        "\n",
        "    if not response:\n",
        "        # time.sleep(2) # Delay before potential retry\n",
        "        return {\"error\": \"Response generation failed\", \"feedback\": review_text, \"analysis\": review_text.strip()}\n",
        "    return response"
      ],
      "metadata": {
        "id": "9rZveJQmxLDp"
      },
      "execution_count": null,
      "outputs": []
    },
    {
      "cell_type": "code",
      "source": [
        "small_dataset[\"train\"]"
      ],
      "metadata": {
        "colab": {
          "base_uri": "https://localhost:8080/",
          "height": 141
        },
        "id": "OXbnVXQjyWbv",
        "outputId": "f1703b1a-91cd-4958-8a15-f4b812b0ad51"
      },
      "execution_count": 1,
      "outputs": [
        {
          "output_type": "error",
          "ename": "NameError",
          "evalue": "name 'small_dataset' is not defined",
          "traceback": [
            "\u001b[0;31m---------------------------------------------------------------------------\u001b[0m",
            "\u001b[0;31mNameError\u001b[0m                                 Traceback (most recent call last)",
            "\u001b[0;32m<ipython-input-1-9b28f006a893>\u001b[0m in \u001b[0;36m<cell line: 0>\u001b[0;34m()\u001b[0m\n\u001b[0;32m----> 1\u001b[0;31m \u001b[0msmall_dataset\u001b[0m\u001b[0;34m[\u001b[0m\u001b[0;34m\"train\"\u001b[0m\u001b[0;34m]\u001b[0m\u001b[0;34m\u001b[0m\u001b[0;34m\u001b[0m\u001b[0m\n\u001b[0m",
            "\u001b[0;31mNameError\u001b[0m: name 'small_dataset' is not defined"
          ]
        }
      ]
    },
    {
      "cell_type": "code",
      "source": [
        "test_cases = small_dataset[\"train\"][\"text\"]\n",
        "test_cases_result = small_dataset[\"train\"][\"label\"]\n",
        "maps = {\"Positive\": 1, \"Negative\":0}\n",
        "results = []\n",
        "print(\"\\n\\n--- Starting Test Cases ---\")\n",
        "for i, review_text in enumerate(test_cases):\n",
        "    result = process_review_text(review_text)\n",
        "    results.append(maps.get(result, 1))\n",
        "    print(f\"Test Case {i + 1}: {result}\")\n",
        "    # Add a delay between processing test cases to respect potential API rate limits\n",
        "    if \"error\" not in result: # Only delay if successful calls were made\n",
        "         time.sleep(2) # Adjust delay as needed based on API limits (free tier often has strict limits)"
      ],
      "metadata": {
        "id": "hGAK2qmexdIL",
        "colab": {
          "base_uri": "https://localhost:8080/"
        },
        "outputId": "f804fe49-cfdc-48f3-d1a9-f1a343aa32ea"
      },
      "execution_count": null,
      "outputs": [
        {
          "output_type": "stream",
          "name": "stdout",
          "text": [
            "\n",
            "\n",
            "--- Starting Test Cases ---\n"
          ]
        }
      ]
    },
    {
      "cell_type": "code",
      "source": [
        "test_cases_result"
      ],
      "metadata": {
        "id": "6OSpJnskxjQw"
      },
      "execution_count": null,
      "outputs": []
    },
    {
      "cell_type": "code",
      "source": [
        "results"
      ],
      "metadata": {
        "id": "UGo0SrUKygqb"
      },
      "execution_count": null,
      "outputs": []
    },
    {
      "cell_type": "code",
      "source": [],
      "metadata": {
        "id": "IA0Z9iq-yi1S"
      },
      "execution_count": null,
      "outputs": []
    }
  ]
}